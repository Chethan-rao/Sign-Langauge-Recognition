{
 "cells": [
  {
   "cell_type": "code",
   "execution_count": null,
   "id": "27ee41b2",
   "metadata": {},
   "outputs": [],
   "source": [
    "from keras.models import load_model\n",
    "\n",
    "classifier = load_model('Trained_model.h5')\n",
    "\n",
    "#Prediction of single image\n",
    "import numpy as np\n",
    "from keras.preprocessing import image\n",
    "img_name = input('Enter Image Name: ')\n",
    "image_path = './{}'.format(img_name)\n",
    "print('')\n",
    "\n",
    "test_image = image.load_img(image_path, target_size=(64,64))\n",
    "test_image = image.img_to_array(test_image)\n",
    "test_image = np.expand_dims(test_image, axis = 0)\n",
    "result = classifier.predict(test_image)\n",
    "#training_set.class_indices\n",
    "print('Predicted Sign is:')\n",
    "print('')\n",
    "\n",
    "def fun(result):\n",
    "    if result[0][0] == 1:\n",
    "          return 'A'\n",
    "    elif result[0][1] == 1:\n",
    "          return 'B'\n",
    "    elif result[0][2] == 1:\n",
    "          return 'C'\n",
    "    elif result[0][3] == 1:\n",
    "          return 'G'\n",
    "    elif result[0][4] == 1:\n",
    "          return 'I'\n",
    "    elif result[0][5] == 1:\n",
    "          return 'L'\n",
    "    elif result[0][6] == 1:\n",
    "          return 'O'\n",
    "    elif result[0][7] == 1:\n",
    "          return 'R'\n",
    "    elif result[0][8] == 1:\n",
    "          return 'W'\n",
    "    elif result[0][9] == 1:\n",
    "          return 'Y'\n",
    "    \n",
    "print(fun(result))\n",
    "\n",
    "\n",
    "\n",
    "\n"
   ]
  }
 ],
 "metadata": {
  "kernelspec": {
   "display_name": "Python 3 (ipykernel)",
   "language": "python",
   "name": "python3"
  },
  "language_info": {
   "codemirror_mode": {
    "name": "ipython",
    "version": 3
   },
   "file_extension": ".py",
   "mimetype": "text/x-python",
   "name": "python",
   "nbconvert_exporter": "python",
   "pygments_lexer": "ipython3",
   "version": "3.9.7"
  }
 },
 "nbformat": 4,
 "nbformat_minor": 5
}
