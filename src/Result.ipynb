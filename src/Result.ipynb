{
 "cells": [
  {
   "cell_type": "code",
   "execution_count": 89,
   "id": "d3dd8a69",
   "metadata": {},
   "outputs": [],
   "source": [
    "import os\n",
    "import numpy as np\n",
    "import cv2\n",
    "from keras.preprocessing import image\n",
    "\n",
    "labels = ['A', 'B','C','G','I','L','O','R','W','Y']\n",
    "\n",
    "img_size = 64\n",
    "def get_data(data_dir):\n",
    "    data = [] \n",
    "    for label in labels: \n",
    "        path = os.path.join(data_dir, label)\n",
    "        class_num = labels.index(label)\n",
    "        for img in os.listdir(path):\n",
    "            try:\n",
    "                img_arr = cv2.imread(os.path.join(path, img)) \n",
    "                resized_arr = cv2.resize(img_arr, (img_size, img_size)) # Reshaping images to preferred size\n",
    "                data.append([resized_arr, class_num])\n",
    "            except Exception as e:\n",
    "                print(e)\n",
    "    return np.array(data)"
   ]
  },
  {
   "cell_type": "code",
   "execution_count": 98,
   "id": "e8fb5e9d",
   "metadata": {},
   "outputs": [
    {
     "name": "stderr",
     "output_type": "stream",
     "text": [
      "C:\\Users\\CHETHA~1\\AppData\\Local\\Temp/ipykernel_44544/1348189763.py:21: VisibleDeprecationWarning: Creating an ndarray from ragged nested sequences (which is a list-or-tuple of lists-or-tuples-or ndarrays with different lengths or shapes) is deprecated. If you meant to do this, you must specify 'dtype=object' when creating the ndarray.\n",
      "  return np.array(data)\n"
     ]
    }
   ],
   "source": [
    "train = get_data('./mydata/training_set')\n",
    "val = get_data('./mydata/test_set')"
   ]
  },
  {
   "cell_type": "code",
   "execution_count": 101,
   "id": "abb584d0",
   "metadata": {},
   "outputs": [
    {
     "data": {
      "text/plain": [
       "(17500, 2)"
      ]
     },
     "execution_count": 101,
     "metadata": {},
     "output_type": "execute_result"
    }
   ],
   "source": [
    "train.shape"
   ]
  },
  {
   "cell_type": "code",
   "execution_count": 188,
   "id": "9862184c",
   "metadata": {},
   "outputs": [
    {
     "data": {
      "text/plain": [
       "(2500, 2)"
      ]
     },
     "execution_count": 188,
     "metadata": {},
     "output_type": "execute_result"
    }
   ],
   "source": [
    "val.shape"
   ]
  },
  {
   "cell_type": "code",
   "execution_count": 21,
   "id": "4d8f0839",
   "metadata": {},
   "outputs": [
    {
     "name": "stderr",
     "output_type": "stream",
     "text": [
      "C:\\Users\\Chethan Rao S\\Anaconda3\\lib\\site-packages\\seaborn\\_decorators.py:36: FutureWarning: Pass the following variable as a keyword arg: x. From version 0.12, the only valid positional argument will be `data`, and passing other arguments without an explicit keyword will result in an error or misinterpretation.\n",
      "  warnings.warn(\n"
     ]
    },
    {
     "data": {
      "text/plain": [
       "<AxesSubplot:ylabel='count'>"
      ]
     },
     "execution_count": 21,
     "metadata": {},
     "output_type": "execute_result"
    },
    {
     "data": {
      "image/png": "[encoded data removed]",
      "text/plain": [
       "<Figure size 432x288 with 1 Axes>"
      ]
     },
     "metadata": {},
     "output_type": "display_data"
    }
   ],
   "source": [
    "import matplotlib.pyplot as plt\n",
    "import seaborn as sns\n",
    "l = []\n",
    "for i in train:\n",
    "    if(i[1] == 0):\n",
    "        l.append(\"A\")\n",
    "    elif(i[1]==1):\n",
    "        l.append(\"B\")\n",
    "    elif(i[1]==2):\n",
    "        l.append(\"C\")\n",
    "    elif(i[1]==3):\n",
    "        l.append(\"G\")\n",
    "    elif(i[1]==4):\n",
    "        l.append(\"I\")\n",
    "    elif(i[1]==5):\n",
    "        l.append(\"L\")\n",
    "    elif(i[1]==6):\n",
    "        l.append(\"O\")\n",
    "    elif(i[1]==7):\n",
    "        l.append(\"R\")\n",
    "    elif(i[1]==8):\n",
    "        l.append(\"W\")\n",
    "    else:\n",
    "        l.append(\"Y\")\n",
    "        \n",
    "sns.set_style('darkgrid')\n",
    "sns.countplot(l)"
   ]
  },
  {
   "cell_type": "code",
   "execution_count": 22,
   "id": "86bdcc47",
   "metadata": {},
   "outputs": [
    {
     "data": {
      "text/plain": [
       "Text(0.5, 1.0, 'A')"
      ]
     },
     "execution_count": 22,
     "metadata": {},
     "output_type": "execute_result"
    },
    {
     "data": {
      "image/png": "[encoded data removed]",
      "text/plain": [
       "<Figure size 360x360 with 1 Axes>"
      ]
     },
     "metadata": {},
     "output_type": "display_data"
    }
   ],
   "source": [
    "plt.figure(figsize = (5,5))\n",
    "plt.imshow(train[1][0])\n",
    "plt.title(labels[train[0][1]])"
   ]
  },
  {
   "cell_type": "code",
   "execution_count": 23,
   "id": "ac1d96b7",
   "metadata": {},
   "outputs": [
    {
     "data": {
      "text/plain": [
       "Text(0.5, 1.0, 'Y')"
      ]
     },
     "execution_count": 23,
     "metadata": {},
     "output_type": "execute_result"
    },
    {
     "data": {
      "image/png": "[encoded data removed]",
      "text/plain": [
       "<Figure size 360x360 with 1 Axes>"
      ]
     },
     "metadata": {},
     "output_type": "display_data"
    }
   ],
   "source": [
    "plt.figure(figsize = (5,5))\n",
    "plt.imshow(train[-1][0])\n",
    "plt.title(labels[train[-1][1]])"
   ]
  },
  {
   "cell_type": "code",
   "execution_count": 87,
   "id": "f5322b0b",
   "metadata": {},
   "outputs": [],
   "source": [
    "x_train = []\n",
    "y_train = []\n",
    "x_val = []\n",
    "y_val = []\n",
    "\n",
    "\n",
    "for feature, label in train:\n",
    "  x_train.append(feature)\n",
    "  y_train.append(label)\n",
    "\n",
    "for feature, label in val:\n",
    "  x_val.append(feature)\n",
    "  y_val.append(label)\n",
    "\n",
    "x_train = np.array(x_train) \n",
    "x_val = np.array(x_val) \n",
    "\n",
    "x_train.reshape(-1, img_size, img_size, 1)\n",
    "y_train = np.array(y_train)\n",
    "\n",
    "x_val.reshape(-1, img_size, img_size, 1)\n",
    "y_val = np.array(y_val)\n"
   ]
  },
  {
   "cell_type": "code",
   "execution_count": 133,
   "id": "5707794f",
   "metadata": {},
   "outputs": [],
   "source": [
    "from keras.models import load_model\n",
    "classifier = load_model('Trained_model.h5')\n",
    "\n",
    "res=[]\n",
    "data_dir = \"./mydata/test_set\"\n",
    "labels = ['A', 'B','C','G','I','L','O','R','W','Y']\n",
    "\n",
    "for label in labels: \n",
    "    path = os.path.join(data_dir, label)\n",
    "    for img in os.listdir(path):\n",
    "        img = image.load_img(os.path.join(path, img),target_size=(64,64))\n",
    "        test_image = image.img_to_array(img)\n",
    "        test_image = np.expand_dims(test_image, axis = 0)\n",
    "        res.append(classifier.predict(test_image))"
   ]
  },
  {
   "cell_type": "code",
   "execution_count": 183,
   "id": "7a315559",
   "metadata": {},
   "outputs": [],
   "source": [
    "ls = []\n",
    "for i in res:\n",
    "    i = i[0]\n",
    "    for j in range(len(i)):\n",
    "        if(i[j]==1.0):\n",
    "            ls.append(j)\n",
    "\n",
    "# for i in range(0,13):\n",
    "#     ls.append(9)\n",
    "        \n",
    "y_pred = np.array(ls)"
   ]
  },
  {
   "cell_type": "code",
   "execution_count": 269,
   "id": "de46b180",
   "metadata": {},
   "outputs": [],
   "source": [
    "# Save numpy array\n",
    "# np.save(\"y_pred\",y_pred)\n",
    "\n",
    "# Load numpy array\n",
    "y_pred = np.load('y_pred.npy')"
   ]
  },
  {
   "cell_type": "code",
   "execution_count": 284,
   "id": "b82d336e",
   "metadata": {
    "scrolled": true
   },
   "outputs": [
    {
     "name": "stdout",
     "output_type": "stream",
     "text": [
      "{'A': {'precision': 0.847457627118644, 'recall': 1.0, 'f1-score': 0.9174311926605504, 'support': 250}, 'B': {'precision': 0.9260700389105059, 'recall': 0.952, 'f1-score': 0.9388560157790926, 'support': 250}, 'C': {'precision': 1.0, 'recall': 0.992, 'f1-score': 0.9959839357429718, 'support': 250}, 'G': {'precision': 0.9957264957264957, 'recall': 0.932, 'f1-score': 0.962809917355372, 'support': 250}, 'I': {'precision': 0.8676470588235294, 'recall': 0.944, 'f1-score': 0.9042145593869731, 'support': 250}, 'L': {'precision': 0.9815668202764977, 'recall': 0.852, 'f1-score': 0.91220556745182, 'support': 250}, 'O': {'precision': 0.9759036144578314, 'recall': 0.972, 'f1-score': 0.973947895791583, 'support': 250}, 'R': {'precision': 0.995475113122172, 'recall': 0.88, 'f1-score': 0.9341825902335457, 'support': 250}, 'W': {'precision': 0.9224806201550387, 'recall': 0.952, 'f1-score': 0.937007874015748, 'support': 250}, 'Y': {'precision': 0.9477911646586346, 'recall': 0.944, 'f1-score': 0.9458917835671342, 'support': 250}, 'accuracy': 0.942, 'macro avg': {'precision': 0.9460118553249348, 'recall': 0.9419999999999998, 'f1-score': 0.9422531331984791, 'support': 2500}, 'weighted avg': {'precision': 0.9460118553249349, 'recall': 0.942, 'f1-score': 0.9422531331984791, 'support': 2500}}\n"
     ]
    }
   ],
   "source": [
    "from sklearn.metrics import classification_report\n",
    "report = classification_report(y_val, y_pred,target_names=['A', 'B','C','G','I','L','O','R','W','Y'],output_dict=True)\n",
    "print(report)"
   ]
  },
  {
   "cell_type": "code",
   "execution_count": 285,
   "id": "488ef16b",
   "metadata": {},
   "outputs": [
    {
     "name": "stdout",
     "output_type": "stream",
     "text": [
      "Accuracy Score =  0.942\n"
     ]
    }
   ],
   "source": [
    "from sklearn.metrics import accuracy_score\n",
    "acc_score = accuracy_score(y_val, y_pred)\n",
    "print('Accuracy Score = ',acc_score)"
   ]
  },
  {
   "cell_type": "code",
   "execution_count": 286,
   "id": "de581fa5",
   "metadata": {},
   "outputs": [
    {
     "data": {
      "text/plain": [
       "<AxesSubplot:>"
      ]
     },
     "execution_count": 286,
     "metadata": {},
     "output_type": "execute_result"
    },
    {
     "data": {
      "image/png": "[encoded data removed]",
      "text/plain": [
       "<Figure size 432x288 with 2 Axes>"
      ]
     },
     "metadata": {},
     "output_type": "display_data"
    }
   ],
   "source": [
    "import seaborn as sns\n",
    "import pandas as pd\n",
    "sns.heatmap(pd.DataFrame(report).iloc[:-1, :].T, annot=True)"
   ]
  },
  {
   "cell_type": "code",
   "execution_count": 309,
   "id": "5132008a",
   "metadata": {},
   "outputs": [],
   "source": [
    "f1_score={}\n",
    "for alpha in report.keys():\n",
    "    if alpha==\"accuracy\":\n",
    "        break\n",
    "    else:\n",
    "        f1_score[alpha] = (report[alpha]['f1-score']*100)"
   ]
  },
  {
   "cell_type": "code",
   "execution_count": 310,
   "id": "148fad60",
   "metadata": {},
   "outputs": [
    {
     "data": {
      "text/plain": [
       "{'A': 91.74311926605505,\n",
       " 'B': 93.88560157790926,\n",
       " 'C': 99.59839357429718,\n",
       " 'G': 96.2809917355372,\n",
       " 'I': 90.42145593869732,\n",
       " 'L': 91.22055674518201,\n",
       " 'O': 97.3947895791583,\n",
       " 'R': 93.41825902335457,\n",
       " 'W': 93.7007874015748,\n",
       " 'Y': 94.58917835671342}"
      ]
     },
     "execution_count": 310,
     "metadata": {},
     "output_type": "execute_result"
    }
   ],
   "source": [
    "f1_score"
   ]
  },
  {
   "cell_type": "code",
   "execution_count": 312,
   "id": "63590a35",
   "metadata": {},
   "outputs": [
    {
     "data": {
      "image/png": "[encoded data removed]",
      "text/plain": [
       "<Figure size 720x360 with 1 Axes>"
      ]
     },
     "metadata": {},
     "output_type": "display_data"
    }
   ],
   "source": [
    "import matplotlib.pyplot as plt\n",
    "\n",
    "\n",
    "alphabets = list(f1_score.keys())\n",
    "score = list(f1_score.values())\n",
    "  \n",
    "fig = plt.figure(figsize = (10, 5))\n",
    " \n",
    "# creating the bar plot\n",
    "plt.bar(alphabets, score, color ='blue',\n",
    "        width = 0.4)\n",
    " \n",
    "plt.xlabel(\"Alphabets\")\n",
    "plt.ylabel(\"Accuracy\")\n",
    "plt.title(\"F1 score\")\n",
    "plt.show()"
   ]
  },
  {
   "cell_type": "code",
   "execution_count": null,
   "id": "e62b384e",
   "metadata": {},
   "outputs": [],
   "source": []
  }
 ],
 "metadata": {
  "kernelspec": {
   "display_name": "Python 3 (ipykernel)",
   "language": "python",
   "name": "python3"
  },
  "language_info": {
   "codemirror_mode": {
    "name": "ipython",
    "version": 3
   },
   "file_extension": ".py",
   "mimetype": "text/x-python",
   "name": "python",
   "nbconvert_exporter": "python",
   "pygments_lexer": "ipython3",
   "version": "3.9.7"
  }
 },
 "nbformat": 4,
 "nbformat_minor": 5
}
